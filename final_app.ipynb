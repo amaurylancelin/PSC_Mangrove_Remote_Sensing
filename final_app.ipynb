{
 "cells": [
  {
   "cell_type": "code",
   "execution_count": null,
   "metadata": {},
   "outputs": [],
   "source": [
    "# Pour installer GeeMap (necessaire pour executer le notebook)\n",
    "#!pip install geemap"
   ]
  },
  {
   "cell_type": "markdown",
   "metadata": {
    "id": "3bT7iVzmrvMt"
   },
   "source": [
    "# Machine Learning PSC - Outil interactif"
   ]
  },
  {
   "cell_type": "markdown",
   "metadata": {},
   "source": [
    "## Deployer cet outil avec voila \n",
    "1. Installer voila avec les instructions [instruction](https://voila.readthedocs.io/en/stable/install.html)\n",
    "2. Telecharger ce notebook \n",
    "3. lancer ceci depuis la ligne de commande: `voila --no-browser path_to_notebook` -  ou cliquer sur le petit icone voilà dans la barre d'outil du jupyter.\n",
    "4. Il peut être judicieux d'aller dans cellule/effacer toutes les sorties avant de lancer voila.\n"
   ]
  },
  {
   "cell_type": "markdown",
   "metadata": {},
   "source": [
    "###### Pour changer l'opacité d'une layer \n",
    "\n",
    "Cliquer sur la clé à molette en haut à droite de la carte, puis sur l'icone qui s'affiche à sa gauche. L'opacité change lorsque l'on bouge les sliders. Il peut être judicieux de changer l'opacité entre une classification et une image satellite afin d'voir un réel outil de comparaison "
   ]
  },
  {
   "cell_type": "code",
   "execution_count": 1,
   "metadata": {
    "id": "3ihR7A7ZrvMu"
   },
   "outputs": [],
   "source": [
    "import ee\n",
    "import geemap\n",
    "import numpy as np\n",
    "import pandas as pd\n",
    "import ipywidgets as widgets"
   ]
  },
  {
   "cell_type": "code",
   "execution_count": null,
   "metadata": {
    "id": "7T7t_bMOQBDE"
   },
   "outputs": [],
   "source": [
    "Map= geemap.Map()\n",
    "# Map"
   ]
  },
  {
   "cell_type": "code",
   "execution_count": null,
   "metadata": {
    "id": "ERLaEzNoQBDF"
   },
   "outputs": [],
   "source": [
    "#Importer les données de carte\n",
    "\n",
    "S2 = ee.ImageCollection(\"COPERNICUS/S2\")\n",
    "\n",
    "Region1 = ee.Geometry.Polygon(\n",
    "        [[[8.253057463364417, 4.82444593768183],\n",
    "          [8.253057463364417, 4.411059193072894],\n",
    "          [8.923223478989417, 4.411059193072894],\n",
    "          [8.923223478989417, 4.82444593768183]]])\n",
    "\n",
    "Region2 = ee.Geometry.Polygon(\n",
    "        [[[9.292403193948111, 4.07678357259441],\n",
    "          [9.292403193948111, 3.6109162773730574],\n",
    "          [9.983168574807486, 3.6109162773730574],\n",
    "          [9.983168574807486, 4.07678357259441]]])\n",
    "\n",
    "Region3 = ee.Geometry.Polygon(\n",
    "        [[[9.47133393722189, 0.7265437771988537],\n",
    "          [9.47133393722189, 0.3914771952092297],\n",
    "          [9.692433790737516, 0.3914771952092297],\n",
    "          [9.692433790737516, 0.7265437771988537]]])\n",
    "\n",
    "#Images pour la zone 1\n",
    "CollecR1_1 = S2.filterBounds(Region1).filterDate('2019-01-01','2019-12-31');\n",
    "listOfImages = CollecR1_1.toList(CollecR1_1.size()) # Pour les jeux de données 1,2,3\n",
    "\n",
    "imgR1_1 = ee.Image(listOfImages.get(3)) # Jeu de données 1\n",
    "imgR1_2 = ee.Image(listOfImages.get(23)) # jeu de données 2\n",
    "imgR1_3 = ee.Image(listOfImages.get(49)); #jeu de données 3\n",
    "\n",
    "\n",
    "# Pour la zone 2\n",
    "Collec2 = S2.filterBounds(Region2).filterDate('2017-01-01','2019-12-31').filterMetadata(\"CLOUDY_PIXEL_PERCENTAGE\",\"less_than\", 5)\n",
    "listOfImages2 = Collec2.toList(Collec2.size())\n",
    "\n",
    "imgR2_1 = ee.Image(listOfImages2.get(33)) #jeu de données 4\n",
    "imgR2_2 = ee.Image(listOfImages2.get(4)) #jeu de données 5\n",
    "imgR2_3 = ee.Image(listOfImages2.get(29)) #jeu de données 6\n",
    "\n",
    "# Pour la zone 3\n",
    "collecR3 = S2.filterBounds(Region3).filterDate('2017-01-01','2019-12-31').filterMetadata(\"CLOUDY_PIXEL_PERCENTAGE\",\"less_than\", 5)\n",
    "listOfImages3 = collecR3.toList(collecR3.size())\n",
    "\n",
    "imgR3_1=ee.Image(listOfImages3.get(0)) #Jeu de données 7\n",
    "imgR3_2=ee.Image(listOfImages3.get(3)) #Jeu de données 8\n",
    "\n",
    "\n",
    "#paramètres de visualtion sur la Map\n",
    "vis_params2 = {'bands': [\"B4\",\"B3\",\"B2\"],\n",
    "               'gamma' : 1,\n",
    "               'max': 1900, #joue sur le stretch dans gee\n",
    "               'min': -180, #idem\n",
    "               'opacity': 1}\n",
    "\n",
    "vis_params = {\n",
    "    'min': 0,\n",
    "    'max': 3000,\n",
    "    'bands': ['B5', 'B4', 'B3']}"
   ]
  },
  {
   "cell_type": "code",
   "execution_count": null,
   "metadata": {
    "id": "nYpPPEVDQBDF"
   },
   "outputs": [],
   "source": [
    "#Importer les données depuis un fichier texte \n",
    "def extraxteur(s):        #Mettre le nom du string \n",
    "    filein = open(\"data/\"+s,\"r\")\n",
    "    lines = filein.readlines()\n",
    "    chaine=\"\"\n",
    "    for line in lines:\n",
    "        line= line.replace(\"\\n\", \"\")\n",
    "        line= line.replace(\" \", \"\")\n",
    "        chaine = chaine+line\n",
    "    filein.close()\n",
    "    return ee.FeatureCollection(eval(chaine))  #On retourne une feature collection \n",
    "\n",
    "# Les Jeux de données sur la région 1 \n",
    "mangrovesR1_1= extraxteur(\"mangrovesR1-1.txt\")\n",
    "mangrovesR1_2= extraxteur(\"mangrovesR1-2.txt\")\n",
    "mangrovesR1_3= extraxteur(\"mangrovesR1-3.txt\")\n",
    "pas_mangrovesR1_1= extraxteur(\"pas_mangrovesR1-1.txt\")\n",
    "pas_mangrovesR1_2= extraxteur(\"pas_mangrovesR1-2.txt\")\n",
    "pas_mangrovesR1_3= extraxteur(\"pas_mangrovesR1-3.txt\")\n",
    "merR1_1=extraxteur(\"merR1-1.txt\")\n",
    "merR1_2=extraxteur(\"merR1-2.txt\")\n",
    "merR1_3=extraxteur(\"merR1-3.txt\")\n",
    "nuagesR1_1=extraxteur(\"nuagesR1-1.txt\")\n",
    "nuagesR1_2=extraxteur(\"nuagesR1-2.txt\")\n",
    "nuagesR1_3=extraxteur(\"nuagesR1-3.txt\")\n",
    "\n",
    "# Sur la Région 3\n",
    "mangrovesR2_1 = extraxteur(\"mangrovesR2-1.txt\")\n",
    "mangrovesR2_2 = extraxteur(\"mangrovesR2-2.txt\")\n",
    "mangrovesR2_3 = extraxteur(\"mangrovesR2-3.txt\")\n",
    "pas_mangrovesR2_1 = extraxteur(\"pas_mangrovesR2-1.txt\")\n",
    "pas_mangrovesR2_2 = extraxteur(\"pas_mangrovesR2-2.txt\")\n",
    "pas_mangrovesR2_3 = extraxteur(\"pas_mangrovesR2-3.txt\")\n",
    "merR2_1 = extraxteur(\"merR2-1.txt\")\n",
    "merR2_2 = extraxteur(\"merR2-2.txt\")\n",
    "merR2_3 = extraxteur(\"merR2-3.txt\")\n",
    "nuagesR2_1 = extraxteur(\"nuagesR2-1.txt\")\n",
    "nuagesR2_2 = extraxteur(\"nuagesR2-2.txt\")\n",
    "nuagesR2_3 = extraxteur(\"nuagesR2-3.txt\")\n",
    "\n",
    "# Sur la région 3 \n",
    "mangrovesR3_1 = extraxteur(\"mangrovesR3-1.txt\")\n",
    "mangrovesR3_2 = extraxteur(\"mangrovesR3-2.txt\")\n",
    "pas_mangrovesR3_1 = extraxteur(\"pas_mangrovesR3-1.txt\")\n",
    "pas_mangrovesR3_2 = extraxteur(\"pas_mangrovesR3-2.txt\")\n",
    "merR3_1 = extraxteur(\"merR3-1.txt\")\n",
    "merR3_2 = extraxteur(\"merR3-2.txt\")\n",
    "nuagesR3_1 = extraxteur(\"nuagesR3-1.txt\")\n",
    "nuagesR3_2 = extraxteur(\"nuagesR3-2.txt\")\n",
    "\n",
    "\n",
    "# training data région 1\n",
    "totalR1_1 = mangrovesR1_1.merge(pas_mangrovesR1_1).merge(merR1_1).merge(nuagesR1_1)\n",
    "totalR1_2 = mangrovesR1_2.merge(pas_mangrovesR1_2).merge(merR1_2).merge(nuagesR1_2)\n",
    "totalR1_3 = mangrovesR1_3.merge(pas_mangrovesR1_3).merge(merR1_3).merge(nuagesR1_3)\n",
    "\n",
    "# training data région 2\n",
    "totalR2_1 = mangrovesR2_1.merge(pas_mangrovesR2_1).merge(merR2_1).merge(nuagesR2_1)\n",
    "totalR2_2 = mangrovesR2_2.merge(pas_mangrovesR2_2).merge(merR2_2).merge(nuagesR2_2)\n",
    "totalR2_3 = mangrovesR2_3.merge(pas_mangrovesR2_3).merge(merR2_3).merge(nuagesR2_3)\n",
    "\n",
    "# training data région 3\n",
    "totalR3_1 = mangrovesR3_1.merge(pas_mangrovesR3_1).merge(merR3_1).merge(nuagesR3_1)\n",
    "totalR3_2 = mangrovesR3_2.merge(pas_mangrovesR3_2).merge(merR3_2).merge(nuagesR3_2)"
   ]
  },
  {
   "cell_type": "code",
   "execution_count": null,
   "metadata": {
    "id": "OhpNoWifQBDH"
   },
   "outputs": [],
   "source": [
    "bands = ['B1', 'B2', 'B3', 'B4', 'B5', 'B6', 'B7','B8','B8A','B9'] #On prends ces bandes en particluier, \n",
    "#détailler dans le rapport pourquoi ces bandes\n",
    "\n",
    "\n",
    "# REGION 1\n",
    "# R1_1\n",
    "training_dataR1_1 = imgR1_1.select(bands).sampleRegions(**{\n",
    "  'collection': totalR1_1,\n",
    "  'properties': ['LC'],\n",
    "  'scale': 30\n",
    "})\n",
    "# R1_2\n",
    "training_dataR1_2 = imgR1_2.select(bands).sampleRegions(**{\n",
    "  'collection': totalR1_2,\n",
    "  'properties': ['LC'],\n",
    "  'scale': 30\n",
    "})\n",
    "# R1_3\n",
    "training_dataR1_3 = imgR1_3.select(bands).sampleRegions(**{\n",
    "  'collection': totalR1_3,\n",
    "  'properties': ['LC'],\n",
    "  'scale': 30\n",
    "})\n",
    "\n",
    "# REGION2\n",
    "# R2_1\n",
    "training_dataR2_1 = imgR2_1.select(bands).sampleRegions(**{\n",
    "  'collection': totalR2_1,\n",
    "  'properties': ['LC'],\n",
    "  'scale': 30\n",
    "})\n",
    "# R2_2\n",
    "training_dataR2_2 = imgR2_2.select(bands).sampleRegions(**{\n",
    "  'collection': totalR2_2,\n",
    "  'properties': ['LC'],\n",
    "  'scale': 30\n",
    "})\n",
    "# R2_3\n",
    "training_dataR2_3 = imgR2_3.select(bands).sampleRegions(**{\n",
    "  'collection': totalR2_3,\n",
    "  'properties': ['LC'],\n",
    "  'scale': 30\n",
    "})\n",
    "\n",
    "# REGION3\n",
    "# R3_1\n",
    "training_dataR3_1 = imgR3_1.select(bands).sampleRegions(**{\n",
    "  'collection': totalR3_1,\n",
    "  'properties': ['LC'],\n",
    "  'scale': 30\n",
    "})\n",
    "# R3_2\n",
    "training_dataR3_2 = imgR3_2.select(bands).sampleRegions(**{\n",
    "  'collection': totalR3_2,\n",
    "  'properties': ['LC'],\n",
    "  'scale': 30\n",
    "})\n",
    "\n",
    "#Training data par région\n",
    "training_dataR1 = training_dataR1_1\n",
    "#on a vu plus loin que les datas des images 1_2 et 1_3 ne sont pas satisfaisantes donc on utilise juste 1_1\n",
    "training_dataR2 = training_dataR2_1.merge(training_dataR2_2).merge(training_dataR2_3)\n",
    "training_dataR3 = training_dataR3_1.merge(training_dataR3_2)\n",
    "\n",
    "\n",
    "\n",
    "# classifier par image\n",
    "classifierR1_1 = ee.Classifier.smileRandomForest(8).train(training_dataR1_1, 'LC', bands)\n",
    "classifierR1_2 = ee.Classifier.smileRandomForest(8).train(training_dataR1_2, 'LC', bands)\n",
    "classifierR1_3 = ee.Classifier.smileRandomForest(8).train(training_dataR1_3, 'LC', bands)\n",
    "classifierR2_1 = ee.Classifier.smileRandomForest(8).train(training_dataR2_1, 'LC', bands)\n",
    "classifierR2_2 = ee.Classifier.smileRandomForest(8).train(training_dataR2_2, 'LC', bands)\n",
    "classifierR2_3 = ee.Classifier.smileRandomForest(8).train(training_dataR2_3, 'LC', bands)\n",
    "classifierR3_1 = ee.Classifier.smileRandomForest(8).train(training_dataR3_1, 'LC', bands)\n",
    "classifierR3_2 = ee.Classifier.smileRandomForest(8).train(training_dataR3_2, 'LC', bands)\n",
    "\n",
    "# classifier par régions\n",
    "classifierR1 = ee.Classifier.smileRandomForest(8).train(training_dataR1, 'LC', bands)\n",
    "classifierR2 = ee.Classifier.smileRandomForest(8).train(training_dataR2, 'LC', bands)\n",
    "classifierR3 = ee.Classifier.smileRandomForest(8).train(training_dataR3, 'LC', bands)\n",
    "\n",
    "#classifier Ultime\n",
    "classifierUltime = ee.Classifier.smileRandomForest(8).train(training_dataR1.merge(training_dataR2).merge(training_dataR3), 'LC', bands)"
   ]
  },
  {
   "cell_type": "code",
   "execution_count": null,
   "metadata": {
    "colab": {
     "referenced_widgets": [
      "608ef882003446cf829c1b2e7e706e01"
     ]
    },
    "id": "buTypVwfQBDJ",
    "outputId": "83e76a5e-62b5-4c44-bef5-bd95bc1a4e07"
   },
   "outputs": [],
   "source": [
    "# Classi*nom de l'image classifiée*_*nom du classifier* (les noms sont réduits aux suffixe du type R1_1,...) \n",
    "\n",
    "# classification des images avec le classifier entrainé sur l'image\n",
    "ClassiR1_1_R1_1 = imgR1_1.select(bands).classify(classifierR1_1) #classif pas mal\n",
    "# Map.addLayer(ClassiR1_1_R1_1.randomVisualizer(), {}, 'classfied')\n",
    "ClassiR1_2_R1_2 = imgR1_2.select(bands).classify(classifierR1_2) #classif bof bof (nuages)\n",
    "# Map.addLayer(ClassiR1_2_R1_2.randomVisualizer(), {}, 'classfied')\n",
    "ClassiR1_3_R1_3 = imgR1_3.select(bands).classify(classifierR1_3) #idem\n",
    "# Map.addLayer(ClassiR1_3_R1_3.randomVisualizer(), {}, 'classfied')\n",
    "ClassiR2_1_R2_1 = imgR2_1.select(bands).classify(classifierR2_1) #classif pas mal\n",
    "# Map.addLayer(ClassiR2_1_R2_1.randomVisualizer(), {}, 'classfied')\n",
    "ClassiR2_2_R2_2 = imgR2_2.select(bands).classify(classifierR2_2) #moyen (pas mal de nuages)\n",
    "# Map.addLayer(ClassiR2_2_R2_2.randomVisualizer(), {}, 'classfied')\n",
    "ClassiR2_3_R2_3 = imgR2_3.select(bands).classify(classifierR2_3) #top\n",
    "# Map.addLayer(ClassiR2_3_R2_3.randomVisualizer(), {}, 'classfied')\n",
    "ClassiR3_1_R3_1 = imgR3_1.select(bands).classify(classifierR3_1) #top\n",
    "# Map.addLayer(ClassiR3_1_R3_1.randomVisualizer(), {}, 'classfied')\n",
    "ClassiR3_2_R3_2 = imgR3_2.select(bands).classify(classifierR3_2) #pas mal, meme si il y a un peu de nuages\n",
    "# Map.addLayer(ClassiR3_2_R3_2.randomVisualizer(), {}, 'classfied')\n",
    "\n",
    "# REGION 1 classifiée avec le classifier associé à la région 1\n",
    "ClassiR1_1_R1 = imgR1_1.select(bands).classify(classifierR1) #pas mal mais moins bien que ce qui est plus haut\n",
    "# Map.addLayer(ClassiR1_1_R1.randomVisualizer(), {}, 'classfied')\n",
    "ClassiR1_2_R1 = imgR1_2.select(bands).classify(classifierR1) #pas mal de nuages...\n",
    "# Map.addLayer(ClassiR1_2_R1.randomVisualizer(), {}, 'classfied') \n",
    "ClassiR1_3_R1 = imgR1_3.select(bands).classify(classifierR1) #beaucoup de nuages\n",
    "# Map.addLayer(ClassiR1_3_R1.randomVisualizer(), {}, 'classfied')\n",
    "\n",
    "# REGION 2 classifiée avec le classifier associé à la région 2\n",
    "ClassiR2_1_R2 = imgR2_1.select(bands).classify(classifierR2) #bof\n",
    "# Map.addLayer(ClassiR2_1_R2.randomVisualizer(), {}, 'classfied')\n",
    "ClassiR2_2_R2 = imgR2_2.select(bands).classify(classifierR2) #bof aussi\n",
    "# Map.addLayer(ClassiR2_2_R2.randomVisualizer(), {}, 'classfied')\n",
    "ClassiR2_3_R2 = imgR2_3.select(bands).classify(classifierR2) #top!\n",
    "# Map.addLayer(ClassiR2_3_R2.randomVisualizer(), {}, 'classfied')\n",
    "\n",
    "# REGION 3 classifiée avec le classifier associé à la région 3\n",
    "ClassiR3_1_R3 = imgR3_1.select(bands).classify(classifierR3) #excellent\n",
    "# Map.addLayer(ClassiR3_1_R3.randomVisualizer(), {}, 'classfied')\n",
    "ClassiR3_2_R3 = imgR3_2.select(bands).classify(classifierR3) #pas mal mais il y a des nuages\n",
    "# Map.addLayer(ClassiR3_2_R3.randomVisualizer(), {}, 'classfied') \n",
    "\n",
    "#Classifier ultime sur Region 1\n",
    "ClassiR1_1_U =  imgR1_1.select(bands).classify(classifierUltime)\n",
    "\n",
    "#DISPLAY A CLASSIFIED IMAGE ON THE MAP\n",
    "Map=geemap.Map()\n",
    "Map.centerObject(Region1, 4)\n",
    "Map.add_basemap('HYBRID')\n",
    "Map"
   ]
  },
  {
   "cell_type": "code",
   "execution_count": null,
   "metadata": {},
   "outputs": [],
   "source": [
    "output=widgets.Output()\n",
    "output"
   ]
  },
  {
   "cell_type": "markdown",
   "metadata": {},
   "source": [
    "### Affichage des Images et classifications"
   ]
  },
  {
   "cell_type": "markdown",
   "metadata": {},
   "source": [
    "##### Nommenclature des images \n",
    "\n",
    "img + nom zone concernée (R1) + \\_ + nom de l'image (1)"
   ]
  },
  {
   "cell_type": "code",
   "execution_count": null,
   "metadata": {},
   "outputs": [],
   "source": [
    "style = {'description_width': 'initial'}\n",
    "print('Pour afficher une Image satellite seule')\n",
    "viz0 = widgets.Dropdown(\n",
    "    description='Select visualization parameter:',\n",
    "    options=['vis_params', 'vis_params2'],\n",
    "    value='vis_params',\n",
    "    style=style\n",
    ")\n",
    "\n",
    "images= widgets.Dropdown(\n",
    "    description='Select layer:',\n",
    "    options=['imgR1_1','imgR1_2','imgR1_3','imgR2_1','imgR2_2','imgR2_3','imgR3_1','imgR3_3'],\n",
    "    value='imgR1_1',\n",
    "    style=style\n",
    ")\n",
    "\n",
    "apply0 = widgets.Button(\n",
    "    description='Apply Layer',\n",
    "    button_style='primary',\n",
    "    tooltip='Click to apply Image',\n",
    "    style=style\n",
    ")\n",
    "\n",
    "hbox0 = widgets.HBox([images, viz0, apply0])\n",
    "hbox0"
   ]
  },
  {
   "cell_type": "code",
   "execution_count": null,
   "metadata": {},
   "outputs": [],
   "source": [
    "def submit_clicked_img(b):\n",
    "    with output:\n",
    "        print('Adding Image Layer...')\n",
    "        im = images.value\n",
    "        Map.addLayer(eval(im), eval(viz0.value), im)\n",
    "        Map.centerObject(eval('Region'+im[4:5]),9)\n",
    "        Map.addLayerControl()\n",
    "        print('done')\n",
    "\n",
    "apply0.on_click(submit_clicked_img)"
   ]
  },
  {
   "cell_type": "markdown",
   "metadata": {},
   "source": [
    "##### Nommenclature des classifications \n",
    "\n",
    "Classi + nom image classifiée (R1\\_1) + \\_ + nom du classifier (R2_3)"
   ]
  },
  {
   "cell_type": "code",
   "execution_count": null,
   "metadata": {
    "scrolled": true
   },
   "outputs": [],
   "source": [
    "print('Pour afficher une classification avec son image correspondante')\n",
    "bands = widgets.Dropdown(\n",
    "    description='Select layer:',\n",
    "    options=['ClassiR1_1_R1_1', 'ClassiR1_2_R1_2',  'ClassiR1_3_R1_3', 'ClassiR2_1_R2_1','ClassiR2_2_R2_2', \n",
    "             'ClassiR3_1_R3_1', 'ClassiR3_2_R3_2','ClassiR1_1_R1','ClassiR1_2_R1','ClassiR1_3_R1','ClassiR2_1_R2'\n",
    "            ,'ClassiR2_2_R2','ClassiR2_3_R2','ClassiR3_1_R3','ClassiR3_2_R3','ClassiR1_1_U'],\n",
    "    value='ClassiR1_1_R1_1',\n",
    "    style=style\n",
    ")\n",
    "\n",
    "viz = widgets.Dropdown(\n",
    "    description='Select visualization parameter:',\n",
    "    options=['vis_params', 'vis_params2'],\n",
    "    value='vis_params',\n",
    "    style=style\n",
    ")\n",
    "\n",
    "apply = widgets.Button(\n",
    "    description='Apply Layer',\n",
    "    button_style='primary',\n",
    "    tooltip='Click to apply classification',\n",
    "    style=style\n",
    ")\n",
    "\n",
    "hbox1 = widgets.HBox([bands, viz, apply])\n",
    "hbox1\n"
   ]
  },
  {
   "cell_type": "code",
   "execution_count": null,
   "metadata": {},
   "outputs": [],
   "source": [
    "def submit_clicked(b):\n",
    "    \n",
    "    with output:\n",
    "\n",
    "        print('Adding layers...')\n",
    "        lay = bands.value\n",
    "        Map.addLayer(eval('img'+lay[6:10]), eval(viz.value), 'img'+lay[6:10])\n",
    "        Map.addLayer(eval(lay).randomVisualizer(), {},lay)\n",
    "        Map.centerObject(eval('Region'+lay[7:8]),9)\n",
    "        legend_keys = ['mer', 'mangrove', 'pas mangrove', 'nuage']\n",
    "        legend_colors = ['ffb220','fd59f6','387611','AE6467']\n",
    "        Map.add_legend(legend_title=\"Résulats de classification\", legend_keys=legend_keys, legend_colors=legend_colors)\n",
    "        Map.addLayerControl()\n",
    "        print('done')\n",
    "        print(\"Aller dans les paramètres pour changer l'opacité\")\n",
    "        print(\"l'image non classifiée est ajoutée en dessous\")\n",
    "        \n",
    "            \n",
    "apply.on_click(submit_clicked)"
   ]
  },
  {
   "cell_type": "markdown",
   "metadata": {},
   "source": [
    "### Test du classifier sur une autre région : Madagascar"
   ]
  },
  {
   "cell_type": "code",
   "execution_count": null,
   "metadata": {},
   "outputs": [],
   "source": [
    "#MADAGASCAR 1\n",
    "\n",
    "bands0 = ['B1', 'B2', 'B3', 'B4', 'B5', 'B6', 'B7','B8','B8A','B9']\n",
    "Region6 = ee.Geometry.Polygon(\n",
    "        [[48.282507448968005, -13.442243916925639],\n",
    "          [48.282507448968005, -13.60680842732002],\n",
    "          [48.584631472405505, -13.60680842732002],\n",
    "          [48.584631472405505, -13.442243916925639]])\n",
    "\n",
    "\n",
    "CollecR6 = S2.filterBounds(Region6).filterDate('2017-01-01','2019-12-31').filterMetadata(\"CLOUDY_PIXEL_PERCENTAGE\",\"less_than\", 5)\n",
    "listOfImagesR6 = CollecR6.toList(CollecR6.size())\n",
    "listOfImagesR6.size().getInfo()\n",
    "imgR6_1 = ee.Image(listOfImagesR6.get(1)) \n",
    "ClassiR6_1_U =  imgR6_1.select(bands0).classify(classifierUltime)"
   ]
  },
  {
   "cell_type": "code",
   "execution_count": null,
   "metadata": {},
   "outputs": [],
   "source": [
    "apply3 = widgets.Button(\n",
    "    description='Apply Layer',\n",
    "    button_style='primary',\n",
    "    tooltip='Click to apply Layer',\n",
    "    style=style\n",
    ")\n",
    "\n",
    "hbox3 = widgets.HBox([apply3])\n",
    "hbox3"
   ]
  },
  {
   "cell_type": "code",
   "execution_count": null,
   "metadata": {},
   "outputs": [],
   "source": [
    "def submit_clicked_mad(b):\n",
    "    with output:\n",
    "        print('Adding Madagascar layers...')\n",
    "        Map.addLayer(imgR6_1,vis_params2,'img_Mada')\n",
    "        Map.centerObject(Region6, 8)\n",
    "        Map.addLayer(ClassiR6_1_U.randomVisualizer(), {}, 'classfied_Mada')\n",
    "        legend_keys = ['mer', 'mangrove', 'pas mangrove', 'nuage']\n",
    "         #colorS can be defined using either hex code or RGB (0-255, 0-255, 0-255)\n",
    "        legend_colors = ['ffb220','fd59f6','387611','AE6467']\n",
    "        #Map.remove_layer('img'+lay[6:10])\n",
    "        Map.add_legend(legend_title=\"Résulats de classification\", legend_keys=legend_keys, legend_colors=legend_colors)\n",
    "        Map.addLayerControl()\n",
    "        print('done')\n",
    "        print(\"Aller dans les paramètres pour changer l'opacité\")\n",
    "        print(\"l'image non classifiée est ajoutée en dessous\")\n",
    "\n",
    "apply3.on_click(submit_clicked_mad)"
   ]
  },
  {
   "cell_type": "markdown",
   "metadata": {},
   "source": [
    "### Test du classifier sur une autre région : France"
   ]
  },
  {
   "cell_type": "code",
   "execution_count": null,
   "metadata": {},
   "outputs": [],
   "source": [
    "France = ee.Geometry.Polygon([[-2.0243339094367507,\n",
    "                46.649952445201436], [-1.8760184797492507,\n",
    "                46.660321160310254],[ 1.9158439192023757,\n",
    "                46.76107676260844],\n",
    "              [-2.0943717512336257,\n",
    "                46.75260923707301]])\n",
    "\n",
    "\n",
    "CollecFrance = S2.filterBounds(France).filterDate('2017-01-01','2019-12-31').filterMetadata(\"CLOUDY_PIXEL_PERCENTAGE\",\"less_than\", 5)\n",
    "listOfImagesFrance = CollecFrance.toList(CollecFrance.size())\n",
    "imgFrance = ee.Image(listOfImagesFrance.get(30))\n",
    "\n",
    "imageF = imgFrance\n",
    "image_classifiedF = imageF.select(bands0).classify(classifierUltime)\n",
    "\n",
    "\n",
    "vis_params2 = {'bands': [\"B4\",\"B3\",\"B2\"],\n",
    "               'gamma' : 1,\n",
    "               'max': 2200, #joue sur le stretch dans gee\n",
    "               'min': -300, #ça aussi \n",
    "               'opacity': 1}\n"
   ]
  },
  {
   "cell_type": "code",
   "execution_count": null,
   "metadata": {},
   "outputs": [],
   "source": [
    "applyF = widgets.Button(\n",
    "    description='Apply Layer',\n",
    "    button_style='primary',\n",
    "    tooltip='Click to apply Layer',\n",
    "    style=style\n",
    ")\n",
    "\n",
    "hboxF = widgets.HBox([applyF])\n",
    "hboxF"
   ]
  },
  {
   "cell_type": "code",
   "execution_count": null,
   "metadata": {},
   "outputs": [],
   "source": [
    "def submit_clicked_F(b):\n",
    "    with output:\n",
    "        print('Adding France layers...')\n",
    "        Map.addLayer(imageF,vis_params2,'image')\n",
    "        Map.addLayer(image_classifiedF.randomVisualizer(), {}, 'classified')\n",
    "        Map.centerObject(France,8)\n",
    "        legend_keys = ['mer', 'mangrove', 'pas mangrove', 'nuage']\n",
    "         #colorS can be defined using either hex code or RGB (0-255, 0-255, 0-255)\n",
    "        legend_colors = ['ffb220','fd59f6','387611','AE6467']\n",
    "        Map.add_legend(legend_title=\"Résulats de classification\", legend_keys=legend_keys, legend_colors=legend_colors, position='topright')\n",
    "        print('done')\n",
    "        print(\"Aller dans les paramètres pour changer l'opacité\")\n",
    "        print(\"l'image non classifiée est ajoutée en dessous\")\n",
    "\n",
    "applyF.on_click(submit_clicked_F)"
   ]
  },
  {
   "cell_type": "markdown",
   "metadata": {},
   "source": [
    "# Evolution temporelle de la région de Conakry, visualisation sous forme de Gif"
   ]
  },
  {
   "cell_type": "code",
   "execution_count": null,
   "metadata": {},
   "outputs": [],
   "source": [
    "#Evolution temporelle golfe de guinée \n",
    "\n",
    "Conakry=ee.Geometry.Polygon([[[-13.604783961703408,9.713743943826113],\n",
    "           [-13.490800807406533,9.735400877445494],\n",
    "           [-13.518266627719033,9.80780603336145],\n",
    "           [-13.629503199984658,9.786153807374372],\n",
    "           [-13.604783961703408,9.713743943826113]]])\n",
    "\n",
    "#REGION Conakry\n",
    "# on fait une collection d'images de la région 1 par année : \n",
    "#on classifie avec le classifierUltime\n",
    "\n",
    "\n",
    "Collec2017_1 = S2.filterBounds(Conakry).filterDate('2017-04-01','2017-09-01').filterMetadata(\"CLOUDY_PIXEL_PERCENTAGE\",\"less_than\", 5);\n",
    "listOfImages2017_1 = Collec2017_1.toList(Collec2017_1.size())\n",
    "img2017_1 = ee.Image(listOfImages2017_1.get(1)) #Momo 1, P-A 1\n",
    "classi2017_1_U = img2017_1 .select(bands0).classify(classifierUltime)\n",
    "\n",
    "\n",
    "Collec2017_2 = S2.filterBounds(Conakry).filterDate('2017-09-02','2017-10-31').filterMetadata(\"CLOUDY_PIXEL_PERCENTAGE\",\"less_than\", 5);\n",
    "listOfImages2017_2 = Collec2017_2.toList(Collec2017_2.size())\n",
    "img2017_2 = ee.Image(listOfImages2017_2.get(0)) #Momo 0, P-A 0\n",
    "classi2017_2_U = img2017_2.select(bands0).classify(classifierUltime)\n",
    "\n",
    "Collec2018_1 = S2.filterBounds(Conakry).filterDate('2017-11-01','2018-04-30').filterMetadata(\"CLOUDY_PIXEL_PERCENTAGE\",\"less_than\", 5);\n",
    "listOfImages2018_1 = Collec2018_1.toList(Collec2018_1.size())\n",
    "img2018_1 = ee.Image(listOfImages2018_1.get(0)) #Momo 0 P-A 0\n",
    "classi2018_1_U = img2018_1 .select(bands0).classify(classifierUltime)\n",
    "\n",
    "\n",
    "Collec2018_2 = S2.filterBounds(Conakry).filterDate('2018-12-01','2018-12-31').filterMetadata(\"CLOUDY_PIXEL_PERCENTAGE\",\"less_than\", 5);\n",
    "listOfImages2018_2 = Collec2018_2.toList(Collec2018_2.size())\n",
    "img2018_2 = ee.Image(listOfImages2018_2.get(0)) #Momo 0 P-A 0\n",
    "classi2018_2_U = img2018_2.select(bands0).classify(classifierUltime)\n",
    "\n",
    "\n",
    "Collec2019_1 = S2.filterBounds(Conakry).filterDate('2019-03-01','2019-08-30').filterMetadata(\"CLOUDY_PIXEL_PERCENTAGE\",\"less_than\", 5);\n",
    "listOfImages2019_1 = Collec2019_1.toList(Collec2019_1.size())\n",
    "img2019_1 = ee.Image(listOfImages2019_1.get(4)) #Momo 4 P-A 5\n",
    "classi2019_1_U = img2019_1 .select(bands0).classify(classifierUltime)\n",
    "\n",
    "\n",
    "Collec2020_1 = S2.filterBounds(Conakry).filterDate('2020-03-01','2020-08-30').filterMetadata(\"CLOUDY_PIXEL_PERCENTAGE\",\"less_than\", 5);\n",
    "listOfImages2020_1 = Collec2020_1.toList(Collec2020_1.size())\n",
    "img2020_1 = ee.Image(listOfImages2020_1.get(0)) #Momo 0 P-A 6\n",
    "classi2020_1_U = img2020_1 .select(bands0).classify(classifierUltime)\n"
   ]
  },
  {
   "cell_type": "code",
   "execution_count": null,
   "metadata": {},
   "outputs": [],
   "source": [
    "from ee import batch\n",
    "# timelapse_\n",
    "# timelapse_R1_1 = ee.ImageCollection([classiR1_1_2015_R1_1.randomVisualizer(),classiR1_1_2016_R1_1.randomVisualizer(),classiR1_1_2017_R1_1.randomVisualizer(),classiR1_1_2018_R1_1.randomVisualizer(),classiR1_1_2019_R1_1.randomVisualizer(),classiR1_1_2020_R1_1.randomVisualizer()])\n",
    "timelapse_U = ee.ImageCollection([classi2017_1_U.randomVisualizer(),classi2018_1_U.randomVisualizer(),classi2018_2_U.randomVisualizer(),classi2019_1_U.randomVisualizer(),classi2020_1_U.randomVisualizer()])\n",
    "timelapse_imageNat=ee.ImageCollection([img2017_1,img2018_1,img2018_2,img2019_1,img2020_1])"
   ]
  },
  {
   "cell_type": "code",
   "execution_count": null,
   "metadata": {},
   "outputs": [],
   "source": [
    "# Define arguments for animation function parameters.\n",
    "import os\n",
    "\n",
    "video_args = {\n",
    "  'dimensions': 800,\n",
    "  'region': Conakry,\n",
    "  'framesPerSecond': 0.85,\n",
    "  'bands': ['viz-red','viz-green','viz-blue'],\n",
    "  'min': 0,\n",
    "    'max':255,\n",
    "  'gamma': [1,1,1]\n",
    "}\n",
    "\n",
    "video_args_imageNat = {\n",
    "  'dimensions': 1900,\n",
    "  'region': Conakry,\n",
    "  'framesPerSecond': 0.85,\n",
    "  'bands': ['B4','B3','B2'],\n",
    "  'min': -150,\n",
    "    'max':1800,\n",
    "  'gamma': [1,1,1]\n",
    "}\n",
    "\n",
    "video_args_Conakry = {\n",
    "  'dimensions': 1900,\n",
    "  'region': Conakry,\n",
    "  'framesPerSecond': 0.85,\n",
    "  'bands': ['B8'],\n",
    "  'min': -1,\n",
    "    'max':1,\n",
    "  'gamma': [1]\n",
    "}"
   ]
  },
  {
   "cell_type": "code",
   "execution_count": null,
   "metadata": {},
   "outputs": [],
   "source": [
    "# NDVI pour Conarky\n",
    "\n",
    "def NDVI(img) :\n",
    "        NIR = img.select('B8')\n",
    "        RED = img.select('B4')\n",
    "        NDVI = img.expression('(NIR-RED)/(NIR+RED)',{'NIR' : NIR,'RED' : RED})\n",
    "        return (NDVI)\n",
    "\n",
    "NDVI2017_1 = NDVI(img2017_1)\n",
    "NDVI2017_2 = NDVI(img2017_2)\n",
    "NDVI2018_1 = NDVI(img2018_1)\n",
    "NDVI2018_2 = NDVI(img2018_2)\n",
    "NDVI2019_1 = NDVI(img2019_1)\n",
    "NDVI2020_1 = NDVI(img2020_1)\n",
    "\n",
    "timelapseNDVI = ee.ImageCollection([NDVI2017_1,NDVI2017_2,NDVI2018_1,NDVI2018_2,NDVI2019_1,NDVI2020_1])\n"
   ]
  },
  {
   "cell_type": "markdown",
   "metadata": {},
   "source": [
    "### Téléchargement des Gif"
   ]
  },
  {
   "cell_type": "markdown",
   "metadata": {},
   "source": [
    "##### Images satellite, classification et NDVI"
   ]
  },
  {
   "cell_type": "code",
   "execution_count": null,
   "metadata": {},
   "outputs": [],
   "source": [
    "apply_img = widgets.Button(\n",
    "    description='Download img',\n",
    "    button_style='success',\n",
    "    tooltip='Click to download & show image gif',\n",
    "    style=style\n",
    ")\n",
    "\n",
    "apply_class = widgets.Button(\n",
    "    description='Download class',\n",
    "    button_style='success',\n",
    "    tooltip='Click to download & show classified gif',\n",
    "    style=style\n",
    ")\n",
    "\n",
    "apply_ndvi = widgets.Button(\n",
    "    description='Download ndvi',\n",
    "    button_style='success',\n",
    "    tooltip='Click to download & show ndvi gif',\n",
    "    style=style\n",
    ")\n",
    "\n",
    "output5 = widgets.Output()\n",
    "\n",
    "hboxdown= widgets.HBox([apply_img, apply_class,apply_ndvi])\n",
    "hboxdown"
   ]
  },
  {
   "cell_type": "code",
   "execution_count": null,
   "metadata": {},
   "outputs": [],
   "source": [
    "def submit_gif_img(d):\n",
    "    with output5:\n",
    "        work_dir = os.path.join(os.path.expanduser(\"~\"), 'Downloads')\n",
    "        if not os.path.exists(work_dir):\n",
    "            os.makedirs(work_dir)\n",
    "        out_gif_img = os.path.join(work_dir, \"timelapse_img.gif\")\n",
    "        geemap.download_ee_video(timelapse_imageNat, video_args_imageNat, out_gif_img)\n",
    "        geemap.show_image(out_gif_img)\n",
    "        \n",
    "apply_img.on_click(submit_gif_img)"
   ]
  },
  {
   "cell_type": "code",
   "execution_count": null,
   "metadata": {},
   "outputs": [],
   "source": [
    "def submit_gif_classif(d):\n",
    "    with output5:\n",
    "        work_dir = os.path.join(os.path.expanduser(\"~\"), 'Downloads')\n",
    "        if not os.path.exists(work_dir):\n",
    "            os.makedirs(work_dir)\n",
    "        out_gif_class = os.path.join(work_dir, \"timelapse_class.gif\")\n",
    "        geemap.download_ee_video(timelapse_U, video_args, out_gif_class)\n",
    "        geemap.show_image(out_gif_class)\n",
    "\n",
    "apply_class.on_click(submit_gif_classif)"
   ]
  },
  {
   "cell_type": "code",
   "execution_count": null,
   "metadata": {},
   "outputs": [],
   "source": [
    "def submit_gif_ndvi(d):\n",
    "    with output5:\n",
    "        work_dir = os.path.join(os.path.expanduser(\"~\"), 'Downloads')\n",
    "        if not os.path.exists(work_dir):\n",
    "            os.makedirs(work_dir)\n",
    "        out_gif_ndvi = os.path.join(work_dir, \"timelapse_ndvi.gif\")\n",
    "        geemap.download_ee_video(timelapseNDVI, video_args_Conakry, out_gif_ndvi)\n",
    "        geemap.show_image(out_gif_ndvi)\n",
    "\n",
    "apply_ndvi.on_click(submit_gif_ndvi)"
   ]
  },
  {
   "cell_type": "code",
   "execution_count": null,
   "metadata": {},
   "outputs": [],
   "source": [
    "output5"
   ]
  },
  {
   "cell_type": "markdown",
   "metadata": {},
   "source": [
    "# Accuracy Assesment"
   ]
  },
  {
   "cell_type": "markdown",
   "metadata": {},
   "source": [
    "$\\bullet$ La $confusionMatrix ()$ calcule une matrice de confusion 2D pour un classificateur en fonction de ses données d'apprentissage (ie: erreur de resubstitution). L'axe 0 de la matrice correspond aux classes d'entrée (c'est-à-dire les données de référence) et l'axe 1 aux classes de sortie (c'est-à-dire les données de classification). Les lignes et les colonnes commencent à la classe 0 et augmentent séquentiellement jusqu'à la valeur de classe maximale \n",
    "\n",
    "$\\bullet$ La overall $Accuracy$ nous indique essentiellement, parmi tous les sites de référence, quelle proportion a été correctement cartographiée. La précision globale est généralement exprimée en pourcentage, une précision de 100% étant une classification parfaite où tous les sites de référence ont été classés correctement. La précision globale est la plus facile à calculer et à comprendre, mais elle ne fournit finalement à l'utilisateur de la carte et au producteur que des informations de précision de base.\n",
    "\n",
    "$\\bullet$ Le coefficient $Kappa$ est généré à partir d'un test statistique pour évaluer l'exactitude d'une classification. Kappa évalue essentiellement la performance de la classification par rapport à l'attribution aléatoire de valeurs, c'est-à-dire la classification a-t-elle fait mieux que le hasard. Le coefficient Kappa peut varier de -1 à 0 1. Une valeur de 0 indique que la classification n'est pas meilleure qu'une classification aléatoire. Un nombre négatif indique que la classification est nettement pire que l’aléatoire. Une valeur proche de 1 indique que la classification est nettement meilleure que l’aléatoire.\n",
    "\n",
    "$\\bullet$ La $Producer Accuracy$ est la précision de la carte du point de vue du cartographe (le producteur). Il s'agit de la fréquence à laquelle les éléments réels au sol sont correctement affichés sur la carte classée ou de la probabilité qu'une certaine couverture terrestre d'une zone au sol soit classée comme telle. La précision du producteur est le complément de l'erreur d'omission, la précision du producteur = 100% - erreur d'omission. C'est également le nombre de sites de référence classés avec précision divisé par le nombre total de sites de référence pour cette classe.\n",
    "\n",
    "$\\bullet$ La $Consumer Accuracy$  est la précision du point de vue de l'utilisateur de la carte et non du créateur de la carte. la précision de l'utilisateur indique essentiellement à l'utilisation à quelle fréquence la classe sur la carte sera réellement présente sur le terrain. C'est ce qu'on appelle la fiabilité. La précision de l'utilisateur est le complément de l'erreur de commission, la précision de l'utilisateur = 100% - erreur de commission. La précision de l'utilisateur est calculée en prenant le nombre total de classifications correctes pour une classe particulière et en le divisant par le total de la ligne.\n"
   ]
  },
  {
   "cell_type": "code",
   "execution_count": null,
   "metadata": {},
   "outputs": [],
   "source": [
    "apply2 = widgets.Button(\n",
    "    description='Print Accuracy',\n",
    "    button_style='primary',\n",
    "    tooltip='Click to print accuracy',\n",
    "    style=style\n",
    ")\n",
    "\n",
    "output2 = widgets.Output()\n",
    "hbox2 = widgets.HBox([apply2])\n",
    "hbox2"
   ]
  },
  {
   "cell_type": "code",
   "execution_count": null,
   "metadata": {
    "scrolled": true
   },
   "outputs": [],
   "source": [
    "#Accuracy assesment sur tous les plusieurs jeux de données\n",
    "\n",
    "\n",
    "def submit_clicked2(b):\n",
    "    with output2:\n",
    "        print('loading...')\n",
    "        training_dataR2=training_dataR2_1.merge(training_dataR2_2).merge(training_dataR2_3)\n",
    "        training_dataR3=training_dataR3_1.merge(training_dataR3_2)\n",
    "        training_dataR2_R3=training_dataR2.merge(training_dataR3)\n",
    "        training_dataR1_1_R2_R3=training_dataR1_1.merge(training_dataR2_R3)\n",
    "\n",
    "        list_data=[(training_dataR1_1,'training_dataR1_1'),\n",
    "           (training_dataR1_2,'training_dataR1_2'),\n",
    "           (training_dataR1_3,'training_dataR1_3'),\n",
    "           (training_dataR2,'training_dataR2'),\n",
    "           (training_dataR3,'training_dataR3'),\n",
    "           (training_dataR2_R3,'training_dataR2_R3'),\n",
    "           (training_dataR1_1_R2_R3,'training_dataR1_1_R2_R3')]\n",
    "\n",
    "        for data, name in list_data :\n",
    "    \n",
    "    \n",
    "    # This property of the table stores the land cover labels.\n",
    "            label = 'LC'\n",
    "\n",
    "    # Adds a column of deterministic pseudorandom numbers named 'random' (used for spliting). \n",
    "            sample = data.randomColumn()\n",
    "\n",
    "    #Split in train/test\n",
    "            split = 0.7\n",
    "            training = sample.filter(ee.Filter.lt('random', split))\n",
    "            validation = sample.filter(ee.Filter.gte('random', split))\n",
    "    \n",
    "    \n",
    "    #Train the classifier\n",
    "            classifier = ee.Classifier.smileRandomForest(10).train(training, label, bands0)\n",
    "    \n",
    "    #Error Matrix Object\n",
    "            validated = validation.classify(classifier)\n",
    "            test_accuracy = validated.errorMatrix('LC', 'classification')\n",
    "    \n",
    "            print(f\"DATA = {name} (echantillon de test) \\n\")\n",
    "            print(\"Overall Accuracy = \",test_accuracy.accuracy().getInfo())\n",
    "            print('Error Matrix = ', test_accuracy.getInfo())\n",
    "            print(\"Kappa = \",test_accuracy.kappa().getInfo())\n",
    "            print('Producer Accuracy = ', test_accuracy.producersAccuracy().getInfo())\n",
    "            print('Consummer Accuracy = ', test_accuracy.consumersAccuracy().getInfo())\n",
    "            print('\\n \\n')\n",
    "    \n",
    "\n",
    "apply2.on_click(submit_clicked2)"
   ]
  },
  {
   "cell_type": "code",
   "execution_count": null,
   "metadata": {},
   "outputs": [],
   "source": [
    "output2"
   ]
  }
 ],
 "metadata": {
  "celltoolbar": "Aucun(e)",
  "colab": {
   "collapsed_sections": [],
   "name": "PSC_versionP-A.ipynb",
   "provenance": []
  },
  "hide_input": false,
  "kernelspec": {
   "display_name": "Python 3",
   "language": "python",
   "name": "python3"
  },
  "language_info": {
   "codemirror_mode": {
    "name": "ipython",
    "version": 3
   },
   "file_extension": ".py",
   "mimetype": "text/x-python",
   "name": "python",
   "nbconvert_exporter": "python",
   "pygments_lexer": "ipython3",
   "version": "3.9.2"
  },
  "latex_envs": {
   "LaTeX_envs_menu_present": true,
   "autoclose": false,
   "autocomplete": true,
   "bibliofile": "biblio.bib",
   "cite_by": "apalike",
   "current_citInitial": 1,
   "eqLabelWithNumbers": true,
   "eqNumInitial": 1,
   "hotkeys": {
    "equation": "Ctrl-E",
    "itemize": "Ctrl-I"
   },
   "labels_anchors": false,
   "latex_user_defs": false,
   "report_style_numbering": false,
   "user_envs_cfg": false
  },
  "toc": {
   "base_numbering": 1,
   "nav_menu": {},
   "number_sections": true,
   "sideBar": true,
   "skip_h1_title": true,
   "title_cell": "Table of Contents",
   "title_sidebar": "Table of Contents",
   "toc_cell": false,
   "toc_position": {
    "height": "calc(100% - 180px)",
    "left": "10px",
    "top": "150px",
    "width": "384px"
   },
   "toc_section_display": true,
   "toc_window_display": false
  },
  "varInspector": {
   "cols": {
    "lenName": 16,
    "lenType": 16,
    "lenVar": 40
   },
   "kernels_config": {
    "python": {
     "delete_cmd_postfix": "",
     "delete_cmd_prefix": "del ",
     "library": "var_list.py",
     "varRefreshCmd": "print(var_dic_list())"
    },
    "r": {
     "delete_cmd_postfix": ") ",
     "delete_cmd_prefix": "rm(",
     "library": "var_list.r",
     "varRefreshCmd": "cat(var_dic_list()) "
    }
   },
   "types_to_exclude": [
    "module",
    "function",
    "builtin_function_or_method",
    "instance",
    "_Feature"
   ],
   "window_display": false
  }
 },
 "nbformat": 4,
 "nbformat_minor": 1
}
